{
  "nbformat": 4,
  "nbformat_minor": 0,
  "metadata": {
    "colab": {
      "name": "mlp-covid19-3.ipynb",
      "provenance": [],
      "collapsed_sections": [],
      "authorship_tag": "ABX9TyOxqaPRr/LCCPRypr7AaX7F",
      "include_colab_link": true
    },
    "kernelspec": {
      "name": "python3",
      "display_name": "Python 3"
    }
  },
  "cells": [
    {
      "cell_type": "markdown",
      "metadata": {
        "id": "view-in-github",
        "colab_type": "text"
      },
      "source": [
        "<a href=\"https://colab.research.google.com/github/jhmuller/mlp-covid19/blob/main/mlp_covid19_3.ipynb\" target=\"_parent\"><img src=\"https://colab.research.google.com/assets/colab-badge.svg\" alt=\"Open In Colab\"/></a>"
      ]
    },
    {
      "cell_type": "code",
      "metadata": {
        "colab": {
          "base_uri": "https://localhost:8080/"
        },
        "id": "kPZY6cmHOJO2",
        "outputId": "662fb8e3-ae8a-4342-9b10-e306b9c02854"
      },
      "source": [
        "!pip install rouge-score"
      ],
      "execution_count": 2,
      "outputs": [
        {
          "output_type": "stream",
          "text": [
            "Collecting rouge-score\n",
            "  Downloading https://files.pythonhosted.org/packages/1f/56/a81022436c08b9405a5247b71635394d44fe7e1dbedc4b28c740e09c2840/rouge_score-0.0.4-py2.py3-none-any.whl\n",
            "Requirement already satisfied: absl-py in /usr/local/lib/python3.6/dist-packages (from rouge-score) (0.10.0)\n",
            "Requirement already satisfied: nltk in /usr/local/lib/python3.6/dist-packages (from rouge-score) (3.2.5)\n",
            "Requirement already satisfied: six>=1.14.0 in /usr/local/lib/python3.6/dist-packages (from rouge-score) (1.15.0)\n",
            "Requirement already satisfied: numpy in /usr/local/lib/python3.6/dist-packages (from rouge-score) (1.19.4)\n",
            "Installing collected packages: rouge-score\n",
            "Successfully installed rouge-score-0.0.4\n"
          ],
          "name": "stdout"
        }
      ]
    },
    {
      "cell_type": "code",
      "metadata": {
        "id": "hX1yOaEyN3eB"
      },
      "source": [
        "from __future__ import unicode_literals, print_function, division\r\n",
        "import unicodedata\r\n",
        "import string\r\n",
        "import sys\r\n",
        "import os\r\n",
        "import re\r\n",
        "import random\r\n",
        "from rouge_score import rouge_scorer\r\n",
        "from tqdm import tqdm\r\n",
        "import torch\r\n",
        "import torch.nn as nn\r\n",
        "from torch import optim\r\n",
        "import torch.nn.functional as F\r\n",
        "def whoami(): \r\n",
        "    return sys._getframe(1).f_code.co_name\r\n",
        "device = torch.device(\"cuda\" if torch.cuda.is_available() else \"cpu\")"
      ],
      "execution_count": 1,
      "outputs": []
    },
    {
      "cell_type": "code",
      "metadata": {
        "colab": {
          "base_uri": "https://localhost:8080/"
        },
        "id": "3hP1AoizOWHE",
        "outputId": "37c1621c-f92a-436e-e286-5a34042ff4c9"
      },
      "source": [
        "def read_input(filepath):\r\n",
        "  with open(filepath, mode='r') as fp:\r\n",
        "    lines = fp.read()\r\n",
        "  tups = []\r\n",
        "  for line in lines:\r\n",
        "    tup = get_first_last(line)\r\n",
        "    tups.append(tup)\r\n",
        "  return tups\r\n",
        "\r\n",
        "def scoring(input_pairs):\r\n",
        "  scorer = rouge_scorer.RougeScorer(['rouge1'],\r\n",
        "                                use_stemmer=True)\r\n",
        "  scores = []\r\n",
        "  for pair in input_pairs:\r\n",
        "    scores.append(scorer.score(pair[0], pair[1]))\r\n",
        "  return scores\r\n",
        "\r\n",
        "def write_scores(scores, outpath):\r\n",
        "  with open(outpath, mode=\"w\") as fp:\r\n",
        "    fp.write(scores)\r\n",
        "  return\r\n",
        "\r\n",
        "def print_scores(scores):\r\n",
        "  res = \"\\n\".join([str(s) for s in scores])\r\n",
        "  print(res)\r\n",
        "  return  \r\n",
        "\r\n",
        "  \r\n",
        "input_pairs = [['The quick brown fox jumps over the lazy dog', \r\n",
        "                'The quick brown dog jumps on the log.'],\r\n",
        "               ['my name is fox', 'my name']]\r\n",
        "scores = scoring(input_pairs)\r\n",
        "print_scores(scores)"
      ],
      "execution_count": 10,
      "outputs": [
        {
          "output_type": "stream",
          "text": [
            "{'rouge1': Score(precision=0.75, recall=0.6666666666666666, fmeasure=0.7058823529411765)}\n",
            "{'rouge1': Score(precision=1.0, recall=0.5, fmeasure=0.6666666666666666)}\n"
          ],
          "name": "stdout"
        }
      ]
    },
    {
      "cell_type": "code",
      "metadata": {
        "id": "Kj0xYY7qRjXt"
      },
      "source": [
        ""
      ],
      "execution_count": null,
      "outputs": []
    }
  ]
}