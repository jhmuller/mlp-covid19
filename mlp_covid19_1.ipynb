{
  "nbformat": 4,
  "nbformat_minor": 0,
  "metadata": {
    "colab": {
      "name": "mlp_covid19-1.ipynb",
      "provenance": [],
      "collapsed_sections": [],
      "machine_shape": "hm",
      "authorship_tag": "ABX9TyMUa5sa72qDewP0GG+nue9X",
      "include_colab_link": true
    },
    "kernelspec": {
      "name": "python3",
      "display_name": "Python 3"
    }
  },
  "cells": [
    {
      "cell_type": "markdown",
      "metadata": {
        "id": "view-in-github",
        "colab_type": "text"
      },
      "source": [
        "<a href=\"https://colab.research.google.com/github/jhmuller/mlp-covid19/blob/main/mlp_covid19_1.ipynb\" target=\"_parent\"><img src=\"https://colab.research.google.com/assets/colab-badge.svg\" alt=\"Open In Colab\"/></a>"
      ]
    },
    {
      "cell_type": "markdown",
      "metadata": {
        "id": "ZZ50kyaxmwSH"
      },
      "source": [
        "### Notes\n",
        "\n",
        "#### enable shift-tab\n",
        "On Colab, for SHIFT+ TAB to work, you have to disable Automatically trigger code completions on Tools->Settings\n",
        "\n",
        "You also have to have already imported the library that you are trying to get the docstring. \n",
        "\n",
        "For example run the import in another code snippet. You can see the docstring also just pressing TAB on Colab\n",
        "\n",
        "---\n",
        "\n"
      ]
    },
    {
      "cell_type": "code",
      "metadata": {
        "colab": {
          "base_uri": "https://localhost:8080/"
        },
        "id": "LfAg571WFFKK",
        "outputId": "3a3d6dc6-cfdb-4b92-dd73-e8919aaad966"
      },
      "source": [
        "gpu_info = !nvidia-smi\n",
        "gpu_info = '\\n'.join(gpu_info)\n",
        "if gpu_info.find('failed') >= 0:\n",
        "  print('Select the Runtime > \"Change runtime type\" menu to enable a GPU accelerator, ')\n",
        "  print('and then re-execute this cell.')\n",
        "else:\n",
        "  print(gpu_info)"
      ],
      "execution_count": 1,
      "outputs": [
        {
          "output_type": "stream",
          "text": [
            "Select the Runtime > \"Change runtime type\" menu to enable a GPU accelerator, \n",
            "and then re-execute this cell.\n"
          ],
          "name": "stdout"
        }
      ]
    },
    {
      "cell_type": "code",
      "metadata": {
        "colab": {
          "base_uri": "https://localhost:8080/"
        },
        "id": "rZFQPo7FFIih",
        "outputId": "5e8e97df-42d9-4b39-c0e5-39f2da082916"
      },
      "source": [
        "from psutil import virtual_memory\n",
        "ram_gb = virtual_memory().total / 1e9\n",
        "print('Your runtime has {:.1f} gigabytes of available RAM\\n'.format(ram_gb))\n",
        "\n",
        "if ram_gb < 20:\n",
        "  print('To enable a high-RAM runtime, select the Runtime > \"Change runtime type\"')\n",
        "  print('menu, and then select High-RAM in the Runtime shape dropdown. Then, ')\n",
        "  print('re-execute this cell.')\n",
        "else:\n",
        "  print('You are using a high-RAM runtime!')"
      ],
      "execution_count": 2,
      "outputs": [
        {
          "output_type": "stream",
          "text": [
            "Your runtime has 27.4 gigabytes of available RAM\n",
            "\n",
            "You are using a high-RAM runtime!\n"
          ],
          "name": "stdout"
        }
      ]
    },
    {
      "cell_type": "code",
      "metadata": {
        "colab": {
          "base_uri": "https://localhost:8080/"
        },
        "id": "HNIUVntFYDWe",
        "outputId": "9c2f9254-2bd7-4e88-f573-cbd77a5e033d"
      },
      "source": [
        "!pip install fsspec"
      ],
      "execution_count": 3,
      "outputs": [
        {
          "output_type": "stream",
          "text": [
            "Collecting fsspec\n",
            "\u001b[?25l  Downloading https://files.pythonhosted.org/packages/a5/8b/1df260f860f17cb08698170153ef7db672c497c1840dcc8613ce26a8a005/fsspec-0.8.4-py3-none-any.whl (91kB)\n",
            "\r\u001b[K     |███▋                            | 10kB 16.8MB/s eta 0:00:01\r\u001b[K     |███████▏                        | 20kB 22.7MB/s eta 0:00:01\r\u001b[K     |██████████▉                     | 30kB 18.9MB/s eta 0:00:01\r\u001b[K     |██████████████▍                 | 40kB 16.6MB/s eta 0:00:01\r\u001b[K     |██████████████████              | 51kB 16.1MB/s eta 0:00:01\r\u001b[K     |█████████████████████▋          | 61kB 18.1MB/s eta 0:00:01\r\u001b[K     |█████████████████████████▏      | 71kB 15.0MB/s eta 0:00:01\r\u001b[K     |████████████████████████████▊   | 81kB 14.9MB/s eta 0:00:01\r\u001b[K     |████████████████████████████████| 92kB 6.6MB/s \n",
            "\u001b[?25hInstalling collected packages: fsspec\n",
            "Successfully installed fsspec-0.8.4\n"
          ],
          "name": "stdout"
        }
      ]
    },
    {
      "cell_type": "code",
      "metadata": {
        "id": "mpi84TZlHZM4"
      },
      "source": [
        "import os\n",
        "import sys\n",
        "import datetime\n",
        "import unicodedata\n",
        "import string\n",
        "import re\n",
        "import random\n",
        "import json\n",
        "import glob\n",
        "import fsspec\n",
        "from __future__ import unicode_literals, print_function, division\n",
        "import re\n",
        "import nltk\n",
        "import pandas as pd\n",
        "import numpy as np\n",
        "import torch\n",
        "import torch.nn as nn\n",
        "from torch import optim\n",
        "import torch.nn.functional as F\n",
        "now = datetime.datetime.now\n",
        "device = torch.device(\"cuda\" if torch.cuda.is_available() else \"cpu\")"
      ],
      "execution_count": 44,
      "outputs": []
    },
    {
      "cell_type": "code",
      "metadata": {
        "colab": {
          "base_uri": "https://localhost:8080/"
        },
        "id": "1CfosqNUxpsT",
        "outputId": "cd54ad53-ee09-4417-81e2-a78e3e3b99a4"
      },
      "source": [
        "import inspect\n",
        "mlist = list(filter(lambda x: inspect.ismodule(x[1]), locals().items()))\n",
        "vi = sys.version_info\n",
        "print(\"version {0}.{1}.{2} of Python\".format(vi.major, vi.minor, vi.micro))\n",
        "for name, mod in mlist:\n",
        "    mname = name\n",
        "    if name.startswith(\"__\"):\n",
        "        print(name, mod)\n",
        "        continue\n",
        "    if hasattr(mod, \"__version__\"):\n",
        "        mname = name\n",
        "        if hasattr(mod, \"__path__\"):\n",
        "            mname = os.path.split(mod.__path__[0])[1]\n",
        "        print(\"version {1} of {0} as {2} \".format(mname, name, mod.__version__))\n",
        "    elif hasattr(mod, \"__file__\") and \"site-packages\" in mod.__file__:\n",
        "        print(\"No __version__ for {0} as {1}\".format(mname, name))\n",
        "del mod\n",
        "del name"
      ],
      "execution_count": 5,
      "outputs": [
        {
          "output_type": "stream",
          "text": [
            "version 3.6.9 of Python\n",
            "__builtin__ <module 'builtins' (built-in)>\n",
            "__builtins__ <module 'builtins' (built-in)>\n",
            "version re of re as 2.2.1 \n",
            "version json of json as 2.0.9 \n",
            "version fsspec of fsspec as 0.8.4 \n",
            "version nltk of nltk as 3.2.5 \n",
            "version pd of pandas as 1.1.4 \n",
            "version np of numpy as 1.18.5 \n",
            "version torch of torch as 1.7.0+cu101 \n"
          ],
          "name": "stdout"
        }
      ]
    },
    {
      "cell_type": "code",
      "metadata": {
        "colab": {
          "base_uri": "https://localhost:8080/"
        },
        "id": "LDc60grsHt8v",
        "outputId": "f5903523-9697-43be-8dd9-1dce95733384"
      },
      "source": [
        "from google.colab import drive\n",
        "drive.mount('/content/gdrive', force_remount=False)"
      ],
      "execution_count": 6,
      "outputs": [
        {
          "output_type": "stream",
          "text": [
            "Mounted at /content/gdrive\n"
          ],
          "name": "stdout"
        }
      ]
    },
    {
      "cell_type": "code",
      "metadata": {
        "id": "yaivpL59h5PW",
        "colab": {
          "base_uri": "https://localhost:8080/"
        },
        "outputId": "4332f292-9534-4708-8c8c-0a2d471fd140"
      },
      "source": [
        "#%%timeit -n1 -r1\n",
        "# tried using json and pandas but had problems\n",
        "# just reading in text and splitting into lines\n",
        "dpath = \"/content/gdrive/My Drive/data/mlp_covid19\"\n",
        "fdir = os.listdir(dpath)[0]\n",
        "dpath = os.path.join(dpath, fdir)\n",
        "jfiles = os.listdir(dpath)\n",
        "jpaths = [os.path.join(dpath, jf) for jf in jfiles]\n",
        "\n",
        "# this did not work to read as json\n",
        "if False:\n",
        "  with open(jpaths[0]) as f:\n",
        "    data = json.load(f)\n",
        "\n",
        "#To make it easier to work on your computer, we will work with only the 1st 2 files. \n",
        "# i.e from 16119_webhose_2019_12_db21c91a1ab47385bb13773ed8238c31_0000001.json \n",
        "# and 16119_webhose_2020_01_db21c91a1ab47385bb13773ed8238c31_0000001.json.\n",
        "files_set = set(\n",
        "    [\"16119_webhose_2019_12_db21c91a1ab47385bb13773ed8238c31_0000001.json\",\n",
        "      \"16119_webhose_2020_01_db21c91a1ab47385bb13773ed8238c31_0000001.json\"])\n",
        "txt_data = ''\n",
        "for fpath in jpaths:\n",
        "  head, tail = os.path.split(fpath)\n",
        "  if tail in files_set:\n",
        "    print(\"reading {0} {1}\".format(tail, datetime.datetime.now()))\n",
        "    with open(jpaths[0], mode='r') as fp:\n",
        "      new_data = fp.read()\n",
        "    print(\"len {0} {1}\".format(len(new_data), datetime.datetime.now()))\n",
        "    txt_data += new_data\n",
        "\n",
        "print(\"len of txt data {0}\".format(len(txt_data)))\n",
        "print(datetime.datetime.now())\n",
        "tvars = [x for x in globals().keys() if  x.startswith(\"t\")]\n",
        "print(tvars)"
      ],
      "execution_count": 14,
      "outputs": [
        {
          "output_type": "stream",
          "text": [
            "reading 16119_webhose_2019_12_db21c91a1ab47385bb13773ed8238c31_0000001.json 2020-12-05 18:17:32.257237\n",
            "len 521195604 2020-12-05 18:17:35.720087\n",
            "reading 16119_webhose_2020_01_db21c91a1ab47385bb13773ed8238c31_0000001.json 2020-12-05 18:17:35.720333\n",
            "len 521195604 2020-12-05 18:17:39.177788\n",
            "len of txt data 1042391208\n",
            "2020-12-05 18:17:40.459928\n",
            "['torch', 'tail', 'txt_data']\n"
          ],
          "name": "stdout"
        }
      ]
    },
    {
      "cell_type": "code",
      "metadata": {
        "colab": {
          "base_uri": "https://localhost:8080/"
        },
        "id": "dFBKZUYmAqM5",
        "outputId": "88d54e9c-372d-488c-93ff-972fec94b233"
      },
      "source": [
        "txt_lines = txt_data.split('\\n')\n",
        "print(\"{0} lines\".format(len(txt_lines)))\n",
        "dlist = []\n",
        "for i, l in enumerate(txt_lines):\n",
        "  try:\n",
        "    d = eval(l) \n",
        "    dlist.append(d)\n",
        "  except Exception as e:\n",
        "    print(\"line{0}, {1}\\n{2}\".format(i,l, e))\n",
        "print(\"len dlist {0}\".format(len(dlist)))"
      ],
      "execution_count": 18,
      "outputs": [
        {
          "output_type": "stream",
          "text": [
            "197913 lines\n",
            "line98956, {\"organizations\": [], \"uuid\": \"50db3ae27600471c975e2b3f9ffae3693f861967\", \"thread\": {\"social\": {\"gplus\": {\"shares\": 0}, \"pinterest\": {\"shares\": 0}, \"vk\": {\"shares\": 0}, \"linkedin\": {\"shares\": 0}, \"facebook\": {\"likes\": 0, \"shares\": 0, \"comments\": 0}, \"stumbledupon\": {\"shares\": 0}}, \"site_full\": \"www.businessinsider.sg\", \"main_image\": \"https://static.businessinsider.sg/sites/2/2020/03/5c24ee842a5b7429c428e9cc.png\", \"site_section\": \"https://www.businessinsider.sg/career\", \"section_title\": \"Latest Career on Business Insider Singapore - Business Insider Singapore\", \"url\": \"https://www.businessinsider.sg/amazon-walmart-hiring-how-to-apply-2020-3\", \"country\": \"SG\", \"domain_rank\": 26759, \"title\": \"Amazon and Walmart are ramping up hiring to add 250,000 new jobs. Here's how to apply and whether you can expect an interview.,\", \"performance_score\": 0, \"site\": \"businessinsider.sg\", \"participants_count\": 1, \"title_full\": \"\", \"spam_score\": 0.027, \"site_type\": \"news\", \"published\": \"2020-03-23T11:55:00.000+02:00\", \"replies_count\": 0, \"uuid\": \"50db3ae27600471c975e2b3f9ffae3693f861967\"}, \"author\": \"Hayley Peterson\", \"url\": \"https://www.businessinsider.sg/amazon-walmart-hiring-how-to-apply-2020-3\", \"ord_in_thread\": 0, \"title\": \"Amazon and Walmart are ramping up hiring to add 250,000 new jobs. Here's how to apply and whether you can expect an interview.,\", \"locations\": [], \"entities\": {\"persons\": [], \"locations\": [{\"name\": \"us\", \"sentiment\": \"none\"}], \"organizations\": [{\"name\": \"amazon\", \"sentiment\": \"negative\"}, {\"name\": \"walmart\", \"sentiment\": \"negative\"}]}, \"highlightText\": \"\", \"language\": \"english\", \"persons\": [], \"text\": \"Amazon and Walmart are launching immediate hiring sprees to address surging consumer demand stemming from the coronavirus pandemic.\\nAmazon has said it plans to hire 100,000 US warehouse and delivery workers, while Walmart aims to add 150,000 new employees through the end of May to work in stores, clubs, distribution centers, and fulfillment centers. The Walmart roles will initially be temporary, but many will convert to permanent roles over time, the company said.\\nHere’s what you need to know about the new roles and hiring processes at each company.\\nAmazon is staffing up in three main categories: warehouses, shoppers, and delivery drivers.\\nHere’s a breakdown of the three categories where Amazon is focusing its hiring:\\nAmazon’s hiring process, from submitting an application to starting work, can take as little as seven days and involves no resumes or interviews.\\nAmazon’s available positions and online applications can be found on the company’s jobs site . Here are the key steps:\\nThe entire process, from application to the first day of work, can take as little as seven days, according to Amazon.\\n“No resume or previous work experience required,” the company says on its website.\\nDelivery driver roles do require interviews, however.\\nAs Walmart ramps up its staff, it plans to speed up hiring for key roles including cashiers and stockers by cutting the application process from an average of two weeks to 24 hours.\\nHere are some of the roles where Walmart is adding staff:\", \"external_links\": [\"https://i.insider.com/5ad705e2e52c2d28008b4707\", \"https://www.i.insider.com/5e78d9e02d654f1f74350fb3\", \"https://www.i.insider.com/5c24ee842a5b7429c428e9cc\", \"https://www.businessinsider.com/amazon-100000-new-hires-and-pay-raise-amid-coronavirus-2020-3\", \"https://amazondelivers.jobs/?cmpid=PRPRLC0780H6\", \"https://i.insider.com/5e78d9e02d654f1f74350fb3\", \"https://www.amazondelivers.jobs/?cmpid=PRPRLC0780H6\", \"https://i.insider.com/5c89111569e11c12066532ca\", \"https://i.insider.com/5c24ee842a5b7429c428e9cc\", \"https://www.businessinsider.com/walmart-to-pay-employee-bonuses-and-hire-150000-workers-2020-3\", \"https://www.i.insider.com/5c89111569e11c12066532ca\", \"https://www.i.insider.com/5ad705e2e52c2d28008b4707\", \"https://www.amazondelivers.jobs/\", \"https://businessinsider.com/amazon-100000-new-hires-and-pay-raise-amid-coronavirus-2020-3\", \"https://businessinsider.com/walmart-to-pay-employee-bonuses-and-hire-150000-workers-2020-3\"], \"published\": \"2020-03-23T11:55:00.000+02:00\", \"crawled\": \"2020-03-24T16:16:31.081+02:00\", \"highlightTitle\": \"\"}{\"organizations\": [], \"uuid\": \"e1f229c830df943457586af99d3569848a796aeb\", \"thread\": {\"social\": {\"gplus\": {\"shares\": 0}, \"pinterest\": {\"shares\": 0}, \"vk\": {\"shares\": 0}, \"linkedin\": {\"shares\": 0}, \"facebook\": {\"likes\": 0, \"shares\": 0, \"comments\": 0}, \"stumbledupon\": {\"shares\": 0}}, \"site_full\": \"www.newkerala.com\", \"main_image\": \"\", \"site_section\": \"http://www.newkerala.com/india-news.xml\", \"section_title\": \"India News Update\", \"url\": \"https://www.newkerala.com/news/2020/47081.htm\", \"country\": \"US\", \"domain_rank\": 61094, \"title\": \"COVID-19: Goa SEC cancels March 24 ZP polls; board exams postponed\", \"performance_score\": 0, \"site\": \"newkerala.com\", \"participants_count\": 0, \"title_full\": \"\", \"spam_score\": 0.0, \"site_type\": \"news\", \"published\": \"2020-03-21T03:01:00.000+02:00\", \"replies_count\": 0, \"uuid\": \"e1f229c830df943457586af99d3569848a796aeb\"}, \"author\": \"\", \"url\": \"https://www.newkerala.com/news/2020/47081.htm\", \"ord_in_thread\": 0, \"title\": \"COVID-19: Goa SEC cancels March 24 ZP polls; board exams postponed\", \"locations\": [], \"entities\": {\"persons\": [{\"name\": \"narendra modi\", \"sentiment\": \"none\"}, {\"name\": \"goa\", \"sentiment\": \"none\"}, {\"name\": \"r.k. srivastava\", \"sentiment\": \"none\"}, {\"name\": \"pramod sawant\", \"sentiment\": \"none\"}], \"locations\": [{\"name\": \"panaji\", \"sentiment\": \"none\"}, {\"name\": \"goa\", \"sentiment\": \"none\"}], \"organizations\": [{\"name\": \"goa sec\", \"sentiment\": \"negative\"}, {\"name\": \"sec\", \"sentiment\": \"none\"}, {\"name\": \"zila panchayat\", \"sentiment\": \"none\"}, {\"name\": \"bombay high court\", \"sentiment\": \"none\"}]}, \"highlightText\": \"\", \"language\": \"english\", \"persons\": [], \"text\": \"India News COVID-19: Goa SEC cancels March 24 ZP polls; board exams postponed Panaji, March 20 : In wake of the coronavirus scare, the March 24 elections to 50 Zila Panchayat seats were cancelled on Friday by the state election body. A fresh poll schedule will be announced later. On Friday, the state also postponed Board examinations of Class X and XII as well as for Class IX and XI. \\\"The elections have been cancelled. Fresh dates will be announced later,\\\" State Election Commissioner R.K. Srivastava told reporters here.Incidentally, Goa has not reported a single coronavirus positive case yet.The SEC decision came on a day when a Bombay High Court bench in Goa also directed the election panel to reconsider the holding of polls on March 24 in view of mass gatherings such an exercise necessitates.The polls were scheduled to be held on March 22, but later postponed to March 24 by Chief Minister Pramod Sawant on Thursday, after Prime Minister Narendra Modi designated March 22 as a day to observe 'janata curfew' in view of the coronavirus scare.The BJP-led coalition government in the coastal state has faced severe criticism from the opposition and civil society for refusing to postpone the Zila Panchayat polls. (IANS)\", \"external_links\": [], \"published\": \"2020-03-21T03:01:00.000+02:00\", \"crawled\": \"2020-03-21T06:35:34.008+02:00\", \"highlightTitle\": \"\"}\n",
            "invalid syntax (<string>, line 1)\n",
            "len dlist 197912\n"
          ],
          "name": "stdout"
        }
      ]
    },
    {
      "cell_type": "code",
      "metadata": {
        "colab": {
          "base_uri": "https://localhost:8080/"
        },
        "id": "ygdUHiJgDZ5S",
        "outputId": "160302b6-808e-43bc-eb6f-8f0f21ebae5e"
      },
      "source": [
        "#%%timeit -n1 -r1\n",
        "dataset = [d['text'] for d in dlist]\n",
        "target = [d['title'] for d in dlist]\n",
        "# The length of the list dataset and target will be 190138.\n",
        "print(\"dataset len= {0}, target len= {1}\".format(len(dataset), len(target)))"
      ],
      "execution_count": 19,
      "outputs": [
        {
          "output_type": "stream",
          "text": [
            "dataset len= 197912, target len= 197912\n"
          ],
          "name": "stdout"
        }
      ]
    },
    {
      "cell_type": "code",
      "metadata": {
        "colab": {
          "base_uri": "https://localhost:8080/"
        },
        "id": "ncPJN_Rshrgo",
        "outputId": "9cec0f55-07b5-45d3-a397-7dcb7242ea31"
      },
      "source": [
        "print(datetime.datetime.now())\n",
        "dataset[0:5]\n",
        "target[0:5]"
      ],
      "execution_count": 20,
      "outputs": [
        {
          "output_type": "stream",
          "text": [
            "2020-12-05 18:34:45.803556\n"
          ],
          "name": "stdout"
        },
        {
          "output_type": "execute_result",
          "data": {
            "text/plain": [
              "['COVID-19: Goa SEC cancels March 24 ZP polls; board exams postponed',\n",
              " 'EarthLink - News',\n",
              " 'Administrative Leave Offered to County Workers',\n",
              " '',\n",
              " 'Unanimous first-teamer Obi Toppin leads 2019-20 college basketball AP All-American team']"
            ]
          },
          "metadata": {
            "tags": []
          },
          "execution_count": 20
        }
      ]
    },
    {
      "cell_type": "code",
      "metadata": {
        "id": "jyuzGAmEiljm"
      },
      "source": [
        "contraction_map = {\"ain't\": \"is not\", \"aren't\": \"are not\",\"can't\": \"cannot\", \"'cause\": \"because\", \"could've\": \"could have\", \"couldn't\": \"could not\",\n",
        "                           \"didn't\": \"did not\", \"doesn't\": \"does not\", \"don't\": \"do not\", \"hadn't\": \"had not\", \"hasn't\": \"has not\", \"haven't\": \"have not\",\n",
        "                           \"he'd\": \"he would\",\"he'll\": \"he will\", \"he's\": \"he is\", \"how'd\": \"how did\", \"how'd'y\": \"how do you\", \"how'll\": \"how will\", \"how's\": \"how is\",\n",
        "                           \"I'd\": \"I would\", \"I'd've\": \"I would have\", \"I'll\": \"I will\", \"I'll've\": \"I will have\",\"I'm\": \"I am\", \"I've\": \"I have\", \"i'd\": \"i would\",\n",
        "                           \"i'd've\": \"i would have\", \"i'll\": \"i will\",  \"i'll've\": \"i will have\",\"i'm\": \"i am\", \"i've\": \"i have\", \"isn't\": \"is not\", \"it'd\": \"it would\",\n",
        "                           \"it'd've\": \"it would have\", \"it'll\": \"it will\", \"it'll've\": \"it will have\",\"it's\": \"it is\", \"let's\": \"let us\", \"ma'am\": \"madam\",\n",
        "                           \"mayn't\": \"may not\", \"might've\": \"might have\",\"mightn't\": \"might not\",\"mightn't've\": \"might not have\", \"must've\": \"must have\",\n",
        "                           \"mustn't\": \"must not\", \"mustn't've\": \"must not have\", \"needn't\": \"need not\", \"needn't've\": \"need not have\",\"o'clock\": \"of the clock\",\n",
        "                           \"oughtn't\": \"ought not\", \"oughtn't've\": \"ought not have\", \"shan't\": \"shall not\", \"sha'n't\": \"shall not\", \"shan't've\": \"shall not have\",\n",
        "                           \"she'd\": \"she would\", \"she'd've\": \"she would have\", \"she'll\": \"she will\", \"she'll've\": \"she will have\", \"she's\": \"she is\",\n",
        "                           \"should've\": \"should have\", \"shouldn't\": \"should not\", \"shouldn't've\": \"should not have\", \"so've\": \"so have\",\"so's\": \"so as\",\n",
        "                           \"this's\": \"this is\",\"that'd\": \"that would\", \"that'd've\": \"that would have\", \"that's\": \"that is\", \"there'd\": \"there would\",\n",
        "                           \"there'd've\": \"there would have\", \"there's\": \"there is\", \"here's\": \"here is\",\"they'd\": \"they would\", \"they'd've\": \"they would have\",\n",
        "                           \"they'll\": \"they will\", \"they'll've\": \"they will have\", \"they're\": \"they are\", \"they've\": \"they have\", \"to've\": \"to have\",\n",
        "                           \"wasn't\": \"was not\", \"we'd\": \"we would\", \"we'd've\": \"we would have\", \"we'll\": \"we will\", \"we'll've\": \"we will have\", \"we're\": \"we are\",\n",
        "                           \"we've\": \"we have\", \"weren't\": \"were not\", \"what'll\": \"what will\", \"what'll've\": \"what will have\", \"what're\": \"what are\",\n",
        "                           \"what's\": \"what is\", \"what've\": \"what have\", \"when's\": \"when is\", \"when've\": \"when have\", \"where'd\": \"where did\", \"where's\": \"where is\",\n",
        "                           \"where've\": \"where have\", \"who'll\": \"who will\", \"who'll've\": \"who will have\", \"who's\": \"who is\", \"who've\": \"who have\",\n",
        "                           \"why's\": \"why is\", \"why've\": \"why have\", \"will've\": \"will have\", \"won't\": \"will not\", \"won't've\": \"will not have\",\n",
        "                           \"would've\": \"would have\", \"wouldn't\": \"would not\", \"wouldn't've\": \"would not have\", \"y'all\": \"you all\",\n",
        "                           \"y'all'd\": \"you all would\",\"y'all'd've\": \"you all would have\",\"y'all're\": \"you all are\",\"y'all've\": \"you all have\",\n",
        "                           \"you'd\": \"you would\", \"you'd've\": \"you would have\", \"you'll\": \"you will\", \"you'll've\": \"you will have\",\n",
        "                           \"you're\": \"you are\", \"you've\": \"you have\"}"
      ],
      "execution_count": 21,
      "outputs": []
    },
    {
      "cell_type": "code",
      "metadata": {
        "id": "ALIyEgLuiopU",
        "colab": {
          "base_uri": "https://localhost:8080/"
        },
        "outputId": "7bf6af4c-a146-430c-ba01-6e90a1c36cab"
      },
      "source": [
        "# this did not work\n",
        "# from nltk.corpus import stopwords\n",
        "# stop_words = set(nltk.corpus.stopwords.words('english'))\n",
        "# so doing this\n",
        "nltk.download('stopwords')\n",
        "stop_words = set(nltk.corpus.stopwords.words('english'))  \n",
        "print(type(stop_words))\n",
        "print(list(stop_words)[:4])"
      ],
      "execution_count": 25,
      "outputs": [
        {
          "output_type": "stream",
          "text": [
            "[nltk_data] Downloading package stopwords to /root/nltk_data...\n",
            "[nltk_data]   Package stopwords is already up-to-date!\n",
            "<class 'set'>\n",
            "['about', 'then', 'more', 'hasn']\n"
          ],
          "name": "stdout"
        }
      ]
    },
    {
      "cell_type": "code",
      "metadata": {
        "colab": {
          "base_uri": "https://localhost:8080/"
        },
        "id": "9DU_hVJy95xU",
        "outputId": "aa2c8e74-d643-4fb0-95e8-2fe7ffb0ae3c"
      },
      "source": [
        "def preprocess(text, contraction_map= None, stop_words = None):\n",
        "  if not contraction_map:\n",
        "    contraction_map = {}\n",
        "  if not stop_words:\n",
        "    stop_words = []\n",
        "  if not isinstance(stop_words, set):\n",
        "    stop_words = set(stop_words)\n",
        "\n",
        "  # Split the text using Python split() function\n",
        "  toks = text.split()\n",
        "  # Apply the contraction hashmap on all the words of the text\n",
        "  toks = [contraction_map[x] if x in contraction_map.keys() else x for x in toks]  \n",
        "  # Remove the stopwords that are in English\n",
        "  toks = [x for x in toks if x not in stop_words]\n",
        "\n",
        "  # now rejoin to apply other transforms on text string\n",
        "  res = ' '.join(toks)\n",
        "  # Convert text to lowercase\n",
        "  res = res.lower()    \n",
        "  # Remove 's. For example yours becomes your\n",
        "  res = res.replace(\"'s\",'') # convert your's -> your\n",
        "  # Use regular expression to remove parentheses outside a word. For example (word) becomes word\n",
        "  res = re.sub(\"\\(|\\)\", \"\", res) \n",
        "  # Use regular expression to remove punctuations\n",
        "  res = re.sub(r'[^a-zA-Z0-9. ]','',res)\n",
        "  # Use regular expression to add a space character before and after the full stop. For example . becomes .\n",
        "  res = re.sub(\"\\.\", \" . \", res)\n",
        "  return res\n",
        "test = \"The boys can't .(go) there!.\"\n",
        "test_out = preprocess(test, \n",
        "           contraction_map=contraction_map, \n",
        "           stop_words=stop_words)\n",
        "print(\"{0}\\n{1}\".format(test, test_out))"
      ],
      "execution_count": 26,
      "outputs": [
        {
          "output_type": "stream",
          "text": [
            "The boys can't .(go) there!.\n",
            "the boys cannot  . go there . \n"
          ],
          "name": "stdout"
        }
      ]
    },
    {
      "cell_type": "code",
      "metadata": {
        "colab": {
          "base_uri": "https://localhost:8080/"
        },
        "id": "rvwgRrUZ6NKN",
        "outputId": "923dc675-2d74-45f0-cb6c-308ba57ad295"
      },
      "source": [
        "def preprocess_ref(text, contraction_map, stop_words):\n",
        "    text = text.lower() # lowercase\n",
        "    text = text.split() # convert have'nt -> have not\n",
        "    for i in range(len(text)):\n",
        "        word = text[i]\n",
        "        if word in contraction_map:\n",
        "            text[i] = contraction_map[word]\n",
        "    text = \" \".join(text)\n",
        "    text = text.split()\n",
        "    newtext = []\n",
        "    for word in text:\n",
        "        if word not in stop_words:\n",
        "            newtext.append(word)\n",
        "    text = \" \".join(newtext)\n",
        "    text = text.replace(\"'s\",'') # convert your's -> your\n",
        "    text = re.sub(r'\\(.*\\)','',text) # remove (words)\n",
        "    text = re.sub(r'[^a-zA-Z0-9. ]','',text) # remove punctuations\n",
        "    text = re.sub(r'\\.',' . ',text)\n",
        "    return text\n",
        "test = \"The boys can't .(go) there!.\"\n",
        "test_out = preprocess(test, \n",
        "           contraction_map=contraction_map, \n",
        "           stop_words=stop_words)\n",
        "print(\"{0}\\n{1}\".format(test, test_out))    "
      ],
      "execution_count": 27,
      "outputs": [
        {
          "output_type": "stream",
          "text": [
            "The boys can't .(go) there!.\n",
            "the boys cannot  . go there . \n"
          ],
          "name": "stdout"
        }
      ]
    },
    {
      "cell_type": "code",
      "metadata": {
        "colab": {
          "base_uri": "https://localhost:8080/"
        },
        "id": "AS9ywQuj3WYU",
        "outputId": "9128aee5-e359-4bab-e413-6f5c438be33f"
      },
      "source": [
        "%time X = [preprocess(line, contraction_map=contraction_map, stop_words=stop_words) for line in dataset]"
      ],
      "execution_count": 50,
      "outputs": [
        {
          "output_type": "stream",
          "text": [
            "CPU times: user 47.9 s, sys: 827 ms, total: 48.7 s\n",
            "Wall time: 48.7 s\n"
          ],
          "name": "stdout"
        }
      ]
    },
    {
      "cell_type": "code",
      "metadata": {
        "colab": {
          "base_uri": "https://localhost:8080/"
        },
        "id": "4DTek3AM6YzT",
        "outputId": "e6dc0786-66e0-4979-83b6-0468550fe084"
      },
      "source": [
        "%time X_ref = [preprocess_ref(line, contraction_map=contraction_map, stop_words=stop_words) for line in dataset]"
      ],
      "execution_count": 51,
      "outputs": [
        {
          "output_type": "stream",
          "text": [
            "CPU times: user 48.6 s, sys: 751 ms, total: 49.3 s\n",
            "Wall time: 49.3 s\n"
          ],
          "name": "stdout"
        }
      ]
    },
    {
      "cell_type": "code",
      "metadata": {
        "colab": {
          "base_uri": "https://localhost:8080/"
        },
        "id": "U97VFu6Qm6yY",
        "outputId": "6313fc7b-b223-4fbb-aef5-d401349b6265"
      },
      "source": [
        "%time Y = [preprocess(line, contraction_map=contraction_map, stop_words=stop_words) for line in target]"
      ],
      "execution_count": 52,
      "outputs": [
        {
          "output_type": "stream",
          "text": [
            "CPU times: user 1.7 s, sys: 32.8 ms, total: 1.73 s\n",
            "Wall time: 1.73 s\n"
          ],
          "name": "stdout"
        }
      ]
    },
    {
      "cell_type": "code",
      "metadata": {
        "colab": {
          "base_uri": "https://localhost:8080/"
        },
        "id": "-sW2ra767bV5",
        "outputId": "b0fe2820-fea6-4fdc-9c0e-c9d3e8dabd9f"
      },
      "source": [
        "%time Y_ref = [preprocess_ref(line, contraction_map=contraction_map, stop_words=stop_words) for line in target]"
      ],
      "execution_count": 53,
      "outputs": [
        {
          "output_type": "stream",
          "text": [
            "CPU times: user 1.75 s, sys: 34.8 ms, total: 1.78 s\n",
            "Wall time: 1.78 s\n"
          ],
          "name": "stdout"
        }
      ]
    },
    {
      "cell_type": "code",
      "metadata": {
        "colab": {
          "base_uri": "https://localhost:8080/"
        },
        "id": "9exip0tP8PA1",
        "outputId": "072b9064-6517-4832-f5cf-2bde2727a54c"
      },
      "source": [
        "# At this point, the length of X and Y should both be 190138.\n",
        "print(\"len x= {0}, len(y)= {1}\".format(len(x), len(y)))\n",
        "print(\"len x_ref= {0}, len y_ref= {1}\".format(len(x_ref), len(y_ref)))\n",
        "#assert(len(x) == 190138)"
      ],
      "execution_count": 54,
      "outputs": [
        {
          "output_type": "stream",
          "text": [
            "len x= 197912, len(y)= 197912\n",
            "len x_ref= 197912, len y_ref= 197912\n"
          ],
          "name": "stdout"
        }
      ]
    },
    {
      "cell_type": "code",
      "metadata": {
        "colab": {
          "base_uri": "https://localhost:8080/"
        },
        "id": "XyldRzFxE6go",
        "outputId": "5c0360bc-77f1-48ab-cef8-988aa6200b8c"
      },
      "source": [
        "short_text=[]\n",
        "short_summary=[]\n",
        "max_len_text = 600\n",
        "max_len_target = 30\n",
        "for i in range(len(dataset)):\n",
        "    if(len(target[i].split())<=max_len_target and len(dataset[i].split())<=max_len_text):\n",
        "        short_text.append(dataset[i])\n",
        "        short_summary.append(target[i])\n",
        "\n",
        "temp_df=pd.DataFrame({'text':short_text,'summary':short_summary})\n",
        "print(\"temp_df shape {0}\".format(temp_df.shape))\n",
        "# len(temp_df) being 130736."
      ],
      "execution_count": 55,
      "outputs": [
        {
          "output_type": "stream",
          "text": [
            "temp_df shape (143468, 2)\n"
          ],
          "name": "stdout"
        }
      ]
    },
    {
      "cell_type": "code",
      "metadata": {
        "colab": {
          "base_uri": "https://localhost:8080/",
          "height": 107
        },
        "id": "m5wMOl6OE8m2",
        "outputId": "2156e909-2af6-44b6-c651-0d94a5219468"
      },
      "source": [
        "temp_df.head(2)"
      ],
      "execution_count": 56,
      "outputs": [
        {
          "output_type": "execute_result",
          "data": {
            "text/html": [
              "<div>\n",
              "<style scoped>\n",
              "    .dataframe tbody tr th:only-of-type {\n",
              "        vertical-align: middle;\n",
              "    }\n",
              "\n",
              "    .dataframe tbody tr th {\n",
              "        vertical-align: top;\n",
              "    }\n",
              "\n",
              "    .dataframe thead th {\n",
              "        text-align: right;\n",
              "    }\n",
              "</style>\n",
              "<table border=\"1\" class=\"dataframe\">\n",
              "  <thead>\n",
              "    <tr style=\"text-align: right;\">\n",
              "      <th></th>\n",
              "      <th>text</th>\n",
              "      <th>summary</th>\n",
              "    </tr>\n",
              "  </thead>\n",
              "  <tbody>\n",
              "    <tr>\n",
              "      <th>0</th>\n",
              "      <td>India News COVID-19: Goa SEC cancels March 24 ...</td>\n",
              "      <td>COVID-19: Goa SEC cancels March 24 ZP polls; b...</td>\n",
              "    </tr>\n",
              "    <tr>\n",
              "      <th>1</th>\n",
              "      <td>John Legend: 'The Voice' episodes taped until ...</td>\n",
              "      <td>EarthLink - News</td>\n",
              "    </tr>\n",
              "  </tbody>\n",
              "</table>\n",
              "</div>"
            ],
            "text/plain": [
              "                                                text                                            summary\n",
              "0  India News COVID-19: Goa SEC cancels March 24 ...  COVID-19: Goa SEC cancels March 24 ZP polls; b...\n",
              "1  John Legend: 'The Voice' episodes taped until ...                                   EarthLink - News"
            ]
          },
          "metadata": {
            "tags": []
          },
          "execution_count": 56
        }
      ]
    },
    {
      "cell_type": "code",
      "metadata": {
        "colab": {
          "base_uri": "https://localhost:8080/"
        },
        "id": "M3cdEBXyNeWl",
        "outputId": "0ede7020-5a47-400e-89e5-dee46bfb29cd"
      },
      "source": [
        "# remove empty strings from summary and the text column.\n",
        "newdf = temp_df[temp_df['summary'].str.strip().astype(bool)]\n",
        "df = newdf[newdf['text'].str.strip().astype(bool)]\n",
        "print(\"df shape {0}\".format(df.shape))\n",
        "print(df.head(3))"
      ],
      "execution_count": 57,
      "outputs": [
        {
          "output_type": "stream",
          "text": [
            "df shape (130950, 2)\n",
            "                                                text                                            summary\n",
            "0  India News COVID-19: Goa SEC cancels March 24 ...  COVID-19: Goa SEC cancels March 24 ZP polls; b...\n",
            "1  John Legend: 'The Voice' episodes taped until ...                                   EarthLink - News\n",
            "2  Administrative Leave Offered to County Workers...     Administrative Leave Offered to County Workers\n"
          ],
          "name": "stdout"
        }
      ]
    },
    {
      "cell_type": "code",
      "metadata": {
        "id": "O3HWOJpqNgVj"
      },
      "source": [
        "SOS_token = 0\n",
        "EOS_token = 1\n",
        "MAX_LENGTH = 20\n",
        "\n",
        "SOS_token = 0\n",
        "EOS_token = 1\n",
        "\n",
        "class Lang:\n",
        "    def __init__(self, name):\n",
        "        self.name = name\n",
        "        self.word2index = {}\n",
        "        self.word2count = {}\n",
        "        self.index2word = {0: \"SOS\", 1: \"EOS\"}\n",
        "        self.n_words = 2  # Count SOS and EOS\n",
        "\n",
        "    def addSentence(self, sentence):\n",
        "        for word in sentence.split(' '):\n",
        "            self.addWord(word)\n",
        "\n",
        "    def addWord(self, word):\n",
        "        if word not in self.word2index:\n",
        "            self.word2index[word] = self.n_words\n",
        "            self.word2count[word] = 1\n",
        "            self.index2word[self.n_words] = word\n",
        "            self.n_words += 1\n",
        "        else:\n",
        "            self.word2count[word] += 1"
      ],
      "execution_count": 58,
      "outputs": []
    },
    {
      "cell_type": "code",
      "metadata": {
        "colab": {
          "base_uri": "https://localhost:8080/",
          "height": 107
        },
        "id": "ViAGaYl7PKP5",
        "outputId": "f6a2e8bd-e08d-4b02-ee01-dca89630d9d4"
      },
      "source": [
        "df.head(2)"
      ],
      "execution_count": 59,
      "outputs": [
        {
          "output_type": "execute_result",
          "data": {
            "text/html": [
              "<div>\n",
              "<style scoped>\n",
              "    .dataframe tbody tr th:only-of-type {\n",
              "        vertical-align: middle;\n",
              "    }\n",
              "\n",
              "    .dataframe tbody tr th {\n",
              "        vertical-align: top;\n",
              "    }\n",
              "\n",
              "    .dataframe thead th {\n",
              "        text-align: right;\n",
              "    }\n",
              "</style>\n",
              "<table border=\"1\" class=\"dataframe\">\n",
              "  <thead>\n",
              "    <tr style=\"text-align: right;\">\n",
              "      <th></th>\n",
              "      <th>text</th>\n",
              "      <th>summary</th>\n",
              "    </tr>\n",
              "  </thead>\n",
              "  <tbody>\n",
              "    <tr>\n",
              "      <th>0</th>\n",
              "      <td>India News COVID-19: Goa SEC cancels March 24 ...</td>\n",
              "      <td>COVID-19: Goa SEC cancels March 24 ZP polls; b...</td>\n",
              "    </tr>\n",
              "    <tr>\n",
              "      <th>1</th>\n",
              "      <td>John Legend: 'The Voice' episodes taped until ...</td>\n",
              "      <td>EarthLink - News</td>\n",
              "    </tr>\n",
              "  </tbody>\n",
              "</table>\n",
              "</div>"
            ],
            "text/plain": [
              "                                                text                                            summary\n",
              "0  India News COVID-19: Goa SEC cancels March 24 ...  COVID-19: Goa SEC cancels March 24 ZP polls; b...\n",
              "1  John Legend: 'The Voice' episodes taped until ...                                   EarthLink - News"
            ]
          },
          "metadata": {
            "tags": []
          },
          "execution_count": 59
        }
      ]
    },
    {
      "cell_type": "code",
      "metadata": {
        "id": "RxpzjoD1PbK3"
      },
      "source": [
        "\n",
        "def readData(text, summary):\n",
        "  print(\"Reading lines...\")\n",
        "  input_lang = Lang(text)\n",
        "  output_lang = Lang(summary)\n",
        "  pairs = [[text[i],summary[i]] for i in range(len(text))]\n",
        "  return (input_lang, output_lang, pairs)\n",
        "\n",
        "def prepareData(tlist, slist):\n",
        "  input_lang, output_lang, pairs = readData(tlist, slist)\n",
        "  print(\"Read %s sentence pairs\" % len(pairs))\n",
        "  print(\"Counting words...\")  \n",
        "  [input_lang.addSentence(t) for t in tlist]\n",
        "  [output_lang.addSentence(s) for s in slist] \n",
        "  return input_lang, output_lang, pairs "
      ],
      "execution_count": 64,
      "outputs": []
    },
    {
      "cell_type": "code",
      "metadata": {
        "colab": {
          "base_uri": "https://localhost:8080/"
        },
        "id": "sY_nhTmMT5Oc",
        "outputId": "932f9d96-d227-4a65-c574-c1a6282061b5"
      },
      "source": [
        "input, output, pairs = prepareData(X,Y)"
      ],
      "execution_count": 66,
      "outputs": [
        {
          "output_type": "stream",
          "text": [
            "Reading lines...\n",
            "Read 197912 sentence pairs\n",
            "Counting words...\n"
          ],
          "name": "stdout"
        }
      ]
    },
    {
      "cell_type": "code",
      "metadata": {
        "id": "ybE_WimPUeNg"
      },
      "source": [
        ""
      ],
      "execution_count": null,
      "outputs": []
    }
  ]
}